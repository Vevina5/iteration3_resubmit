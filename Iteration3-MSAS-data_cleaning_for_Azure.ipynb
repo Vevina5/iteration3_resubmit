{
 "cells": [
  {
   "cell_type": "markdown",
   "metadata": {
    "collapsed": true
   },
   "source": [
    "## Step 3-4, Iteration 3 resubmission, MSAS before using Azure Machine Learning"
   ]
  },
  {
   "cell_type": "code",
   "execution_count": 1,
   "metadata": {
    "collapsed": true
   },
   "outputs": [],
   "source": [
    "import pandas as pd\n",
    "import matplotlib.pyplot as plt\n",
    "import numpy as np"
   ]
  },
  {
   "cell_type": "code",
   "execution_count": 2,
   "metadata": {
    "collapsed": true
   },
   "outputs": [],
   "source": [
    "df = pd.read_csv('loanITERATION3.csv', encoding = \"ISO-8859-1\", low_memory=False)"
   ]
  },
  {
   "cell_type": "code",
   "execution_count": null,
   "metadata": {
    "collapsed": true
   },
   "outputs": [],
   "source": []
  },
  {
   "cell_type": "markdown",
   "metadata": {},
   "source": [
    "## 3.1 Select the Data"
   ]
  },
  {
   "cell_type": "code",
   "execution_count": 3,
   "metadata": {
    "collapsed": true
   },
   "outputs": [],
   "source": [
    "col_drop = ['inq_fi', 'total_cu_tl', 'inq_last_12m', 'open_acc_6m', 'open_il_6m', 'open_il_12m', 'open_il_24m', 'mths_since_rcnt_il', 'total_bal_il'] \n",
    "df = df.drop(col_drop, axis = 1)\n",
    "col_drop = ['il_util', 'open_rv_12m', 'open_rv_24m', 'max_bal_bc', 'all_util', 'annual_inc_joint']\n",
    "df = df.drop(col_drop, axis = 1)\n",
    "col_drop = ['mths_since_last_delinq', 'mths_since_last_record', 'next_pymnt_d', 'mths_since_last_major_derog']\n",
    "df = df.drop(col_drop, axis = 1)\n",
    "col_drop = ['policy_code', 'initial_list_status', 'zip_code', 'id', 'member_id', 'pymnt_plan','earliest_cr_line']\n",
    "df = df.drop(col_drop, axis = 1)"
   ]
  },
  {
   "cell_type": "code",
   "execution_count": 4,
   "metadata": {},
   "outputs": [
    {
     "name": "stdout",
     "output_type": "stream",
     "text": [
      "No. of Observations:  274390\n",
      "No. of Attributes: 42\n"
     ]
    }
   ],
   "source": [
    "df = df[(df['loan_status'] != 'Does not meet the credit policy. Status:Fully Paid') & (df['loan_status'] != 'Does not meet the credit policy. Status:Charged Off')]\n",
    "# remove observations with loan_status == Current and Issued\n",
    "df = df[(df['loan_status'] != 'Current') & (df['loan_status'] != 'Issued')]\n",
    "print('No. of Observations: ', str(len(df)))\n",
    "print('No. of Attributes: ' + str(len(df.columns)))"
   ]
  },
  {
   "cell_type": "code",
   "execution_count": null,
   "metadata": {
    "collapsed": true
   },
   "outputs": [],
   "source": []
  },
  {
   "cell_type": "markdown",
   "metadata": {},
   "source": [
    "## 3.2 Clean the Data"
   ]
  },
  {
   "cell_type": "markdown",
   "metadata": {},
   "source": [
    "### Missing values"
   ]
  },
  {
   "cell_type": "code",
   "execution_count": 5,
   "metadata": {},
   "outputs": [
    {
     "name": "stdout",
     "output_type": "stream",
     "text": [
      "emp_length                     10 years\n",
      "revol_util                      56.1 \n",
      "last_pymnt_d                   15-Dec\n",
      "last_credit_pull_d             16-Jan\n",
      "collections_12_mths_ex_med      0.0  \n",
      "tot_coll_amt                    0.0  \n",
      "tot_cur_bal                    78674.0\n",
      "total_rev_hi_lim               22010.0\n"
     ]
    }
   ],
   "source": [
    "# fill missing data with the median value (numeric) or the most frequent value (categorical)\n",
    "for i in df:\n",
    "    if df[i].isnull().sum() != 0:\n",
    "        if df[i].dtype != 'object':\n",
    "            fillmedian = df[i].median()\n",
    "            df[i].fillna(fillmedian, inplace=True)\n",
    "            print('{:<30} {:^6}'.format(i,str(fillmedian)))\n",
    "        else:\n",
    "            frequency = df[i].value_counts().index[0]\n",
    "            df[i].fillna(frequency, inplace = True)\n",
    "            print('{:<30} {:^6}'.format(i,frequency))"
   ]
  },
  {
   "cell_type": "code",
   "execution_count": 7,
   "metadata": {
    "collapsed": true
   },
   "outputs": [],
   "source": [
    "\n"
   ]
  },
  {
   "cell_type": "markdown",
   "metadata": {},
   "source": [
    "## 3.3 Construct & Fomat the Data"
   ]
  },
  {
   "cell_type": "code",
   "execution_count": 6,
   "metadata": {
    "collapsed": true
   },
   "outputs": [],
   "source": [
    "# good and bad loan\n",
    "df['target'] = 0\n",
    "df.target = np.where(df.loan_status == 'Fully Paid', '1', '0')"
   ]
  },
  {
   "cell_type": "code",
   "execution_count": 7,
   "metadata": {},
   "outputs": [
    {
     "data": {
      "text/html": [
       "<div>\n",
       "<style>\n",
       "    .dataframe thead tr:only-child th {\n",
       "        text-align: right;\n",
       "    }\n",
       "\n",
       "    .dataframe thead th {\n",
       "        text-align: left;\n",
       "    }\n",
       "\n",
       "    .dataframe tbody tr th {\n",
       "        vertical-align: top;\n",
       "    }\n",
       "</style>\n",
       "<table border=\"1\" class=\"dataframe\">\n",
       "  <thead>\n",
       "    <tr style=\"text-align: right;\">\n",
       "      <th></th>\n",
       "      <th>loan_status</th>\n",
       "      <th>target</th>\n",
       "    </tr>\n",
       "  </thead>\n",
       "  <tbody>\n",
       "    <tr>\n",
       "      <th>0</th>\n",
       "      <td>Charged Off</td>\n",
       "      <td>0</td>\n",
       "    </tr>\n",
       "    <tr>\n",
       "      <th>1</th>\n",
       "      <td>Charged Off</td>\n",
       "      <td>0</td>\n",
       "    </tr>\n",
       "    <tr>\n",
       "      <th>2</th>\n",
       "      <td>Charged Off</td>\n",
       "      <td>0</td>\n",
       "    </tr>\n",
       "    <tr>\n",
       "      <th>3</th>\n",
       "      <td>Fully Paid</td>\n",
       "      <td>1</td>\n",
       "    </tr>\n",
       "    <tr>\n",
       "      <th>4</th>\n",
       "      <td>Fully Paid</td>\n",
       "      <td>1</td>\n",
       "    </tr>\n",
       "  </tbody>\n",
       "</table>\n",
       "</div>"
      ],
      "text/plain": [
       "   loan_status target\n",
       "0  Charged Off      0\n",
       "1  Charged Off      0\n",
       "2  Charged Off      0\n",
       "3   Fully Paid      1\n",
       "4   Fully Paid      1"
      ]
     },
     "execution_count": 7,
     "metadata": {},
     "output_type": "execute_result"
    }
   ],
   "source": [
    "df[['loan_status','target']].head()"
   ]
  },
  {
   "cell_type": "code",
   "execution_count": null,
   "metadata": {
    "collapsed": true
   },
   "outputs": [],
   "source": []
  },
  {
   "cell_type": "markdown",
   "metadata": {},
   "source": [
    "# STEP 4 DATA TRANSFORMATION"
   ]
  },
  {
   "cell_type": "markdown",
   "metadata": {},
   "source": [
    "## 4.1 Reduce the Data"
   ]
  },
  {
   "cell_type": "code",
   "execution_count": 8,
   "metadata": {
    "collapsed": true
   },
   "outputs": [],
   "source": [
    "col_drop = ['funded_amnt','funded_amnt_inv','total_pymnt_inv','out_prncp_inv']\n",
    "df = df.drop(col_drop, axis=1)"
   ]
  },
  {
   "cell_type": "code",
   "execution_count": 9,
   "metadata": {},
   "outputs": [
    {
     "name": "stdout",
     "output_type": "stream",
     "text": [
      "No. of Observations:  274390\n",
      "No. of Attributes: 33\n"
     ]
    }
   ],
   "source": [
    "col_drop = ['pub_rec','tot_coll_amt','collections_12_mths_ex_med','application_type','acc_now_delinq']\n",
    "df = df.drop(col_drop, axis=1)\n",
    "# drop loan status, keep target\n",
    "df = df.drop('loan_status', axis=1)\n",
    "print('No. of Observations: ', str(len(df)))\n",
    "print('No. of Attributes: ' + str(len(df.columns)))"
   ]
  },
  {
   "cell_type": "markdown",
   "metadata": {},
   "source": [
    "## 4.2 Project the Data"
   ]
  },
  {
   "cell_type": "markdown",
   "metadata": {},
   "source": [
    "### Rename columns"
   ]
  },
  {
   "cell_type": "code",
   "execution_count": 10,
   "metadata": {
    "collapsed": true
   },
   "outputs": [],
   "source": [
    "df.rename(columns={'addr_state':'state'}, inplace=True)\n",
    "df.rename(columns={'issue_d':'issue_date'}, inplace=True)\n",
    "df.rename(columns={'dti':'monthly_payment_to_totaldebt'}, inplace=True)\n",
    "df.rename(columns={'delinq_2yrs':'past_due_2years'}, inplace=True)\n",
    "df.rename(columns={'inq_last_6mths':'inquery_6month'}, inplace=True)\n",
    "df.rename(columns={'revol_util':'revol_utilization'}, inplace=True)\n",
    "df.rename(columns={'open_rv_24m':'revol_amnt_24month'}, inplace=True)\n",
    "df.rename(columns={'open_rv_12m':'revol_amnt_12month'}, inplace=True)\n",
    "df.rename(columns={'total_rev_hi_lim':'total_credit_to_lim'}, inplace=True)"
   ]
  },
  {
   "cell_type": "code",
   "execution_count": 11,
   "metadata": {},
   "outputs": [
    {
     "name": "stdout",
     "output_type": "stream",
     "text": [
      "Index(['loan_amnt', 'term', 'int_rate', 'installment', 'grade', 'sub_grade',\n",
      "       'emp_length', 'home_ownership', 'annual_inc', 'verification_status',\n",
      "       'issue_date', 'purpose', 'state', 'monthly_payment_to_totaldebt',\n",
      "       'past_due_2years', 'inquery_6month', 'open_acc', 'revol_bal',\n",
      "       'revol_utilization', 'total_acc', 'out_prncp', 'total_pymnt',\n",
      "       'total_rec_prncp', 'total_rec_int', 'total_rec_late_fee', 'recoveries',\n",
      "       'collection_recovery_fee', 'last_pymnt_d', 'last_pymnt_amnt',\n",
      "       'last_credit_pull_d', 'tot_cur_bal', 'total_credit_to_lim', 'target'],\n",
      "      dtype='object')\n"
     ]
    }
   ],
   "source": [
    "print(df.columns)"
   ]
  },
  {
   "cell_type": "markdown",
   "metadata": {},
   "source": [
    "### Preprocessing the data"
   ]
  },
  {
   "cell_type": "code",
   "execution_count": 12,
   "metadata": {
    "collapsed": true
   },
   "outputs": [],
   "source": [
    "feature_name = df.drop('target', axis = 1).columns\n",
    "x = df.drop('target', axis = 1)\n",
    "y = df.target.values"
   ]
  },
  {
   "cell_type": "code",
   "execution_count": 13,
   "metadata": {},
   "outputs": [
    {
     "name": "stdout",
     "output_type": "stream",
     "text": [
      "Label Encoded: term\n",
      "Label Encoded: grade\n",
      "Label Encoded: sub_grade\n",
      "Label Encoded: emp_length\n",
      "Label Encoded: home_ownership\n",
      "Label Encoded: verification_status\n",
      "Label Encoded: issue_date\n",
      "Label Encoded: purpose\n",
      "Label Encoded: state\n",
      "Label Encoded: last_pymnt_d\n",
      "Label Encoded: last_credit_pull_d\n"
     ]
    }
   ],
   "source": [
    "# Encoding the fields\n",
    "from sklearn.preprocessing import LabelEncoder\n",
    "# Encoding the categorical attributes\n",
    "for i in x:\n",
    "    if x[i].dtype == 'object':\n",
    "        labelencoder_x = LabelEncoder()\n",
    "        x[i] = labelencoder_x.fit_transform(x[i].astype(str))\n",
    "        print('Label Encoded: ' + i)"
   ]
  },
  {
   "cell_type": "markdown",
   "metadata": {},
   "source": [
    "### Feature Scaling"
   ]
  },
  {
   "cell_type": "code",
   "execution_count": 14,
   "metadata": {
    "collapsed": true
   },
   "outputs": [],
   "source": [
    "from sklearn.preprocessing import StandardScaler\n",
    "sc_x = StandardScaler()\n",
    "x = sc_x.fit_transform(x)\n"
   ]
  },
  {
   "cell_type": "code",
   "execution_count": 15,
   "metadata": {
    "scrolled": true
   },
   "outputs": [
    {
     "data": {
      "text/plain": [
       "array([[-1.37134093,  1.80329344,  0.30395848, ..., -1.61822316,\n",
       "        -0.33093969, -0.21912671],\n",
       "       [-1.02021825,  1.80329344, -0.27807096, ..., -1.98124841,\n",
       "        -0.33093969, -0.21912671],\n",
       "       [-0.57749835, -0.55454092, -0.09759672, ..., -2.88881152,\n",
       "        -0.33093969, -0.21912671],\n",
       "       ..., \n",
       "       [-1.34386176, -0.55454092,  0.88824386, ...,  0.65068461,\n",
       "         0.29296402, -0.84282033],\n",
       "       [ 0.7170757 ,  1.80329344,  0.08738939, ...,  0.65068461,\n",
       "         0.13197502,  7.89889409],\n",
       "       [-0.35155854, -0.55454092,  1.19956194, ...,  0.65068461,\n",
       "        -0.51550215, -0.41958591]])"
      ]
     },
     "execution_count": 15,
     "metadata": {},
     "output_type": "execute_result"
    }
   ],
   "source": [
    "x"
   ]
  },
  {
   "cell_type": "code",
   "execution_count": 17,
   "metadata": {
    "collapsed": true
   },
   "outputs": [],
   "source": [
    "x=pd.DataFrame(x)\n",
    "y=pd.DataFrame(y)\n",
    "spss_df = pd.concat([x,y],axis=1)\n",
    "spss_df.to_excel('loan_azure.xlsx')"
   ]
  },
  {
   "cell_type": "code",
   "execution_count": 13,
   "metadata": {},
   "outputs": [
    {
     "data": {
      "text/html": [
       "<div>\n",
       "<style>\n",
       "    .dataframe thead tr:only-child th {\n",
       "        text-align: right;\n",
       "    }\n",
       "\n",
       "    .dataframe thead th {\n",
       "        text-align: left;\n",
       "    }\n",
       "\n",
       "    .dataframe tbody tr th {\n",
       "        vertical-align: top;\n",
       "    }\n",
       "</style>\n",
       "<table border=\"1\" class=\"dataframe\">\n",
       "  <thead>\n",
       "    <tr style=\"text-align: right;\">\n",
       "      <th></th>\n",
       "      <th>loan_amnt</th>\n",
       "      <th>term</th>\n",
       "      <th>int_rate</th>\n",
       "      <th>installment</th>\n",
       "      <th>grade</th>\n",
       "      <th>sub_grade</th>\n",
       "      <th>emp_length</th>\n",
       "      <th>home_ownership</th>\n",
       "      <th>annual_inc</th>\n",
       "      <th>verification_status</th>\n",
       "      <th>...</th>\n",
       "      <th>total_rec_int</th>\n",
       "      <th>total_rec_late_fee</th>\n",
       "      <th>recoveries</th>\n",
       "      <th>collection_recovery_fee</th>\n",
       "      <th>last_pymnt_d</th>\n",
       "      <th>last_pymnt_amnt</th>\n",
       "      <th>last_credit_pull_d</th>\n",
       "      <th>tot_cur_bal</th>\n",
       "      <th>total_credit_to_lim</th>\n",
       "      <th>target</th>\n",
       "    </tr>\n",
       "  </thead>\n",
       "  <tbody>\n",
       "    <tr>\n",
       "      <th>0</th>\n",
       "      <td>2500</td>\n",
       "      <td>60 months</td>\n",
       "      <td>15.27</td>\n",
       "      <td>59.83</td>\n",
       "      <td>C</td>\n",
       "      <td>C4</td>\n",
       "      <td>0 year</td>\n",
       "      <td>RENT</td>\n",
       "      <td>30000.0</td>\n",
       "      <td>Source Verified</td>\n",
       "      <td>...</td>\n",
       "      <td>435.17</td>\n",
       "      <td>0.0</td>\n",
       "      <td>117.08</td>\n",
       "      <td>1.11</td>\n",
       "      <td>13-Apr</td>\n",
       "      <td>119.66</td>\n",
       "      <td>13-Sep</td>\n",
       "      <td>78674.0</td>\n",
       "      <td>22010.0</td>\n",
       "      <td>0</td>\n",
       "    </tr>\n",
       "    <tr>\n",
       "      <th>1</th>\n",
       "      <td>5375</td>\n",
       "      <td>60 months</td>\n",
       "      <td>12.69</td>\n",
       "      <td>121.45</td>\n",
       "      <td>B</td>\n",
       "      <td>B5</td>\n",
       "      <td>0 year</td>\n",
       "      <td>RENT</td>\n",
       "      <td>15000.0</td>\n",
       "      <td>Verified</td>\n",
       "      <td>...</td>\n",
       "      <td>533.42</td>\n",
       "      <td>0.0</td>\n",
       "      <td>269.29</td>\n",
       "      <td>2.52</td>\n",
       "      <td>12-Nov</td>\n",
       "      <td>121.45</td>\n",
       "      <td>13-Mar</td>\n",
       "      <td>78674.0</td>\n",
       "      <td>22010.0</td>\n",
       "      <td>0</td>\n",
       "    </tr>\n",
       "    <tr>\n",
       "      <th>2</th>\n",
       "      <td>9000</td>\n",
       "      <td>36 months</td>\n",
       "      <td>13.49</td>\n",
       "      <td>305.38</td>\n",
       "      <td>C</td>\n",
       "      <td>C1</td>\n",
       "      <td>0 year</td>\n",
       "      <td>RENT</td>\n",
       "      <td>30000.0</td>\n",
       "      <td>Source Verified</td>\n",
       "      <td>...</td>\n",
       "      <td>570.26</td>\n",
       "      <td>0.0</td>\n",
       "      <td>444.30</td>\n",
       "      <td>4.16</td>\n",
       "      <td>12-Jul</td>\n",
       "      <td>305.38</td>\n",
       "      <td>12-Nov</td>\n",
       "      <td>78674.0</td>\n",
       "      <td>22010.0</td>\n",
       "      <td>0</td>\n",
       "    </tr>\n",
       "    <tr>\n",
       "      <th>3</th>\n",
       "      <td>1000</td>\n",
       "      <td>36 months</td>\n",
       "      <td>16.29</td>\n",
       "      <td>35.31</td>\n",
       "      <td>D</td>\n",
       "      <td>D1</td>\n",
       "      <td>0 year</td>\n",
       "      <td>RENT</td>\n",
       "      <td>28000.0</td>\n",
       "      <td>Not Verified</td>\n",
       "      <td>...</td>\n",
       "      <td>270.17</td>\n",
       "      <td>0.0</td>\n",
       "      <td>0.00</td>\n",
       "      <td>0.00</td>\n",
       "      <td>15-Jan</td>\n",
       "      <td>36.32</td>\n",
       "      <td>16-Jan</td>\n",
       "      <td>78674.0</td>\n",
       "      <td>22010.0</td>\n",
       "      <td>1</td>\n",
       "    </tr>\n",
       "    <tr>\n",
       "      <th>4</th>\n",
       "      <td>8500</td>\n",
       "      <td>36 months</td>\n",
       "      <td>11.71</td>\n",
       "      <td>281.15</td>\n",
       "      <td>B</td>\n",
       "      <td>B3</td>\n",
       "      <td>0 year</td>\n",
       "      <td>RENT</td>\n",
       "      <td>25000.0</td>\n",
       "      <td>Source Verified</td>\n",
       "      <td>...</td>\n",
       "      <td>1622.21</td>\n",
       "      <td>0.0</td>\n",
       "      <td>0.00</td>\n",
       "      <td>0.00</td>\n",
       "      <td>14-Dec</td>\n",
       "      <td>581.59</td>\n",
       "      <td>15-Jan</td>\n",
       "      <td>78674.0</td>\n",
       "      <td>22010.0</td>\n",
       "      <td>1</td>\n",
       "    </tr>\n",
       "  </tbody>\n",
       "</table>\n",
       "<p>5 rows × 33 columns</p>\n",
       "</div>"
      ],
      "text/plain": [
       "   loan_amnt        term  int_rate  installment grade sub_grade emp_length  \\\n",
       "0       2500   60 months     15.27        59.83     C        C4     0 year   \n",
       "1       5375   60 months     12.69       121.45     B        B5     0 year   \n",
       "2       9000   36 months     13.49       305.38     C        C1     0 year   \n",
       "3       1000   36 months     16.29        35.31     D        D1     0 year   \n",
       "4       8500   36 months     11.71       281.15     B        B3     0 year   \n",
       "\n",
       "  home_ownership  annual_inc verification_status   ...   total_rec_int  \\\n",
       "0           RENT     30000.0     Source Verified   ...          435.17   \n",
       "1           RENT     15000.0            Verified   ...          533.42   \n",
       "2           RENT     30000.0     Source Verified   ...          570.26   \n",
       "3           RENT     28000.0        Not Verified   ...          270.17   \n",
       "4           RENT     25000.0     Source Verified   ...         1622.21   \n",
       "\n",
       "  total_rec_late_fee recoveries  collection_recovery_fee  last_pymnt_d  \\\n",
       "0                0.0     117.08                     1.11        13-Apr   \n",
       "1                0.0     269.29                     2.52        12-Nov   \n",
       "2                0.0     444.30                     4.16        12-Jul   \n",
       "3                0.0       0.00                     0.00        15-Jan   \n",
       "4                0.0       0.00                     0.00        14-Dec   \n",
       "\n",
       "   last_pymnt_amnt  last_credit_pull_d  tot_cur_bal  total_credit_to_lim  \\\n",
       "0           119.66              13-Sep      78674.0              22010.0   \n",
       "1           121.45              13-Mar      78674.0              22010.0   \n",
       "2           305.38              12-Nov      78674.0              22010.0   \n",
       "3            36.32              16-Jan      78674.0              22010.0   \n",
       "4           581.59              15-Jan      78674.0              22010.0   \n",
       "\n",
       "   target  \n",
       "0       0  \n",
       "1       0  \n",
       "2       0  \n",
       "3       1  \n",
       "4       1  \n",
       "\n",
       "[5 rows x 33 columns]"
      ]
     },
     "execution_count": 13,
     "metadata": {},
     "output_type": "execute_result"
    }
   ],
   "source": [
    "spss_df.head()"
   ]
  },
  {
   "cell_type": "code",
   "execution_count": 14,
   "metadata": {},
   "outputs": [
    {
     "name": "stdout",
     "output_type": "stream",
     "text": [
      "274390\n",
      "33\n"
     ]
    }
   ],
   "source": [
    "print(len(df))\n",
    "print(len(df.columns))"
   ]
  },
  {
   "cell_type": "code",
   "execution_count": null,
   "metadata": {
    "collapsed": true
   },
   "outputs": [],
   "source": []
  }
 ],
 "metadata": {
  "kernelspec": {
   "display_name": "Python 3",
   "language": "python",
   "name": "python3"
  },
  "language_info": {
   "codemirror_mode": {
    "name": "ipython",
    "version": 3
   },
   "file_extension": ".py",
   "mimetype": "text/x-python",
   "name": "python",
   "nbconvert_exporter": "python",
   "pygments_lexer": "ipython3",
   "version": "3.6.3"
  }
 },
 "nbformat": 4,
 "nbformat_minor": 2
}
