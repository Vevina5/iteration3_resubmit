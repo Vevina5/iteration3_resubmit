{
 "cells": [
  {
   "cell_type": "markdown",
   "metadata": {
    "collapsed": true
   },
   "source": [
    "# INFORSYS 722 Resubmission of Iteration 3"
   ]
  },
  {
   "cell_type": "markdown",
   "metadata": {
    "collapsed": true
   },
   "source": [
    "## Parckage Used\n",
    "sklearn, pandas, matplotlib,numpy"
   ]
  },
  {
   "cell_type": "markdown",
   "metadata": {},
   "source": [
    "# STEP 3 - STEP 8"
   ]
  },
  {
   "cell_type": "markdown",
   "metadata": {},
   "source": [
    "# STEP 3 DATA PREPARATION"
   ]
  },
  {
   "cell_type": "code",
   "execution_count": 1,
   "metadata": {
    "collapsed": true
   },
   "outputs": [],
   "source": [
    "import pandas as pd\n",
    "import matplotlib.pyplot as plt\n",
    "import numpy as np"
   ]
  },
  {
   "cell_type": "code",
   "execution_count": 2,
   "metadata": {
    "collapsed": true
   },
   "outputs": [],
   "source": [
    "df = pd.read_csv('loanITERATION3.csv', encoding = \"ISO-8859-1\", low_memory=False)"
   ]
  },
  {
   "cell_type": "code",
   "execution_count": null,
   "metadata": {
    "collapsed": true
   },
   "outputs": [],
   "source": []
  },
  {
   "cell_type": "markdown",
   "metadata": {},
   "source": [
    "## 3.1 Select the Data"
   ]
  },
  {
   "cell_type": "code",
   "execution_count": 3,
   "metadata": {
    "collapsed": true
   },
   "outputs": [],
   "source": [
    "col_drop = ['inq_fi', 'total_cu_tl', 'inq_last_12m', 'open_acc_6m', 'open_il_6m', 'open_il_12m', 'open_il_24m', 'mths_since_rcnt_il', 'total_bal_il'] \n",
    "df = df.drop(col_drop, axis = 1)\n",
    "col_drop = ['il_util', 'open_rv_12m', 'open_rv_24m', 'max_bal_bc', 'all_util', 'annual_inc_joint']\n",
    "df = df.drop(col_drop, axis = 1)\n",
    "col_drop = ['mths_since_last_delinq', 'mths_since_last_record', 'next_pymnt_d', 'mths_since_last_major_derog']\n",
    "df = df.drop(col_drop, axis = 1)\n",
    "col_drop = ['policy_code', 'initial_list_status', 'zip_code', 'id', 'member_id', 'pymnt_plan','earliest_cr_line']\n",
    "df = df.drop(col_drop, axis = 1)"
   ]
  },
  {
   "cell_type": "code",
   "execution_count": 4,
   "metadata": {},
   "outputs": [
    {
     "name": "stdout",
     "output_type": "stream",
     "text": [
      "No. of Observations:  274390\n",
      "No. of Attributes: 42\n"
     ]
    }
   ],
   "source": [
    "df = df[(df['loan_status'] != 'Does not meet the credit policy. Status:Fully Paid') & (df['loan_status'] != 'Does not meet the credit policy. Status:Charged Off')]\n",
    "# remove observations with loan_status == Current and Issued\n",
    "df = df[(df['loan_status'] != 'Current') & (df['loan_status'] != 'Issued')]\n",
    "print('No. of Observations: ', str(len(df)))\n",
    "print('No. of Attributes: ' + str(len(df.columns)))"
   ]
  },
  {
   "cell_type": "code",
   "execution_count": null,
   "metadata": {
    "collapsed": true
   },
   "outputs": [],
   "source": []
  },
  {
   "cell_type": "markdown",
   "metadata": {},
   "source": [
    "## 3.2 Clean the Data"
   ]
  },
  {
   "cell_type": "markdown",
   "metadata": {},
   "source": [
    "### Missing values"
   ]
  },
  {
   "cell_type": "code",
   "execution_count": 5,
   "metadata": {},
   "outputs": [
    {
     "name": "stdout",
     "output_type": "stream",
     "text": [
      "emp_length                     10 years\n",
      "revol_util                      56.1 \n",
      "last_pymnt_d                   15-Dec\n",
      "last_credit_pull_d             16-Jan\n",
      "collections_12_mths_ex_med      0.0  \n",
      "tot_coll_amt                    0.0  \n",
      "tot_cur_bal                    78674.0\n",
      "total_rev_hi_lim               22010.0\n"
     ]
    }
   ],
   "source": [
    "# fill missing data with the median value (numeric) or the most frequent value (categorical)\n",
    "for i in df:\n",
    "    if df[i].isnull().sum() != 0:\n",
    "        if df[i].dtype != 'object':\n",
    "            fillmedian = df[i].median()\n",
    "            df[i].fillna(fillmedian, inplace=True)\n",
    "            print('{:<30} {:^6}'.format(i,str(fillmedian)))\n",
    "        else:\n",
    "            frequency = df[i].value_counts().index[0]\n",
    "            df[i].fillna(frequency, inplace = True)\n",
    "            print('{:<30} {:^6}'.format(i,frequency))"
   ]
  },
  {
   "cell_type": "code",
   "execution_count": 7,
   "metadata": {
    "collapsed": true
   },
   "outputs": [],
   "source": [
    "\n"
   ]
  },
  {
   "cell_type": "markdown",
   "metadata": {},
   "source": [
    "## 3.3 Construct & Fomat the Data"
   ]
  },
  {
   "cell_type": "code",
   "execution_count": 6,
   "metadata": {
    "collapsed": true
   },
   "outputs": [],
   "source": [
    "# good and bad loan\n",
    "df['target'] = 0\n",
    "df.target = np.where(df.loan_status == 'Fully Paid', 1, 0)"
   ]
  },
  {
   "cell_type": "code",
   "execution_count": 7,
   "metadata": {},
   "outputs": [
    {
     "data": {
      "text/html": [
       "<div>\n",
       "<style>\n",
       "    .dataframe thead tr:only-child th {\n",
       "        text-align: right;\n",
       "    }\n",
       "\n",
       "    .dataframe thead th {\n",
       "        text-align: left;\n",
       "    }\n",
       "\n",
       "    .dataframe tbody tr th {\n",
       "        vertical-align: top;\n",
       "    }\n",
       "</style>\n",
       "<table border=\"1\" class=\"dataframe\">\n",
       "  <thead>\n",
       "    <tr style=\"text-align: right;\">\n",
       "      <th></th>\n",
       "      <th>loan_status</th>\n",
       "      <th>target</th>\n",
       "    </tr>\n",
       "  </thead>\n",
       "  <tbody>\n",
       "    <tr>\n",
       "      <th>0</th>\n",
       "      <td>Charged Off</td>\n",
       "      <td>0</td>\n",
       "    </tr>\n",
       "    <tr>\n",
       "      <th>1</th>\n",
       "      <td>Charged Off</td>\n",
       "      <td>0</td>\n",
       "    </tr>\n",
       "    <tr>\n",
       "      <th>2</th>\n",
       "      <td>Charged Off</td>\n",
       "      <td>0</td>\n",
       "    </tr>\n",
       "    <tr>\n",
       "      <th>3</th>\n",
       "      <td>Fully Paid</td>\n",
       "      <td>1</td>\n",
       "    </tr>\n",
       "    <tr>\n",
       "      <th>4</th>\n",
       "      <td>Fully Paid</td>\n",
       "      <td>1</td>\n",
       "    </tr>\n",
       "  </tbody>\n",
       "</table>\n",
       "</div>"
      ],
      "text/plain": [
       "   loan_status  target\n",
       "0  Charged Off       0\n",
       "1  Charged Off       0\n",
       "2  Charged Off       0\n",
       "3   Fully Paid       1\n",
       "4   Fully Paid       1"
      ]
     },
     "execution_count": 7,
     "metadata": {},
     "output_type": "execute_result"
    }
   ],
   "source": [
    "df[['loan_status','target']].head()"
   ]
  },
  {
   "cell_type": "code",
   "execution_count": null,
   "metadata": {
    "collapsed": true
   },
   "outputs": [],
   "source": []
  },
  {
   "cell_type": "markdown",
   "metadata": {},
   "source": [
    "# STEP 4 DATA TRANSFORMATION"
   ]
  },
  {
   "cell_type": "markdown",
   "metadata": {},
   "source": [
    "## 4.1 Reduce the Data"
   ]
  },
  {
   "cell_type": "code",
   "execution_count": 8,
   "metadata": {
    "collapsed": true
   },
   "outputs": [],
   "source": [
    "col_drop = ['funded_amnt','funded_amnt_inv','total_pymnt_inv','out_prncp_inv']\n",
    "df = df.drop(col_drop, axis=1)"
   ]
  },
  {
   "cell_type": "code",
   "execution_count": 9,
   "metadata": {},
   "outputs": [
    {
     "name": "stdout",
     "output_type": "stream",
     "text": [
      "No. of Observations:  274390\n",
      "No. of Attributes: 33\n"
     ]
    }
   ],
   "source": [
    "col_drop = ['pub_rec','tot_coll_amt','collections_12_mths_ex_med','application_type','acc_now_delinq']\n",
    "df = df.drop(col_drop, axis=1)\n",
    "# drop loan status, keep target\n",
    "df = df.drop('loan_status', axis=1)\n",
    "print('No. of Observations: ', str(len(df)))\n",
    "print('No. of Attributes: ' + str(len(df.columns)))"
   ]
  },
  {
   "cell_type": "markdown",
   "metadata": {},
   "source": [
    "## 4.2 Project the Data"
   ]
  },
  {
   "cell_type": "markdown",
   "metadata": {},
   "source": [
    "### Rename columns"
   ]
  },
  {
   "cell_type": "code",
   "execution_count": 10,
   "metadata": {
    "collapsed": true
   },
   "outputs": [],
   "source": [
    "df.rename(columns={'addr_state':'state'}, inplace=True)\n",
    "df.rename(columns={'issue_d':'issue_date'}, inplace=True)\n",
    "df.rename(columns={'dti':'monthly_payment_to_totaldebt'}, inplace=True)\n",
    "df.rename(columns={'delinq_2yrs':'past_due_2years'}, inplace=True)\n",
    "df.rename(columns={'inq_last_6mths':'inquery_6month'}, inplace=True)\n",
    "df.rename(columns={'revol_util':'revol_utilization'}, inplace=True)\n",
    "df.rename(columns={'open_rv_24m':'revol_amnt_24month'}, inplace=True)\n",
    "df.rename(columns={'open_rv_12m':'revol_amnt_12month'}, inplace=True)\n",
    "df.rename(columns={'total_rev_hi_lim':'total_credit_to_lim'}, inplace=True)"
   ]
  },
  {
   "cell_type": "code",
   "execution_count": 11,
   "metadata": {},
   "outputs": [
    {
     "name": "stdout",
     "output_type": "stream",
     "text": [
      "Index(['loan_amnt', 'term', 'int_rate', 'installment', 'grade', 'sub_grade',\n",
      "       'emp_length', 'home_ownership', 'annual_inc', 'verification_status',\n",
      "       'issue_date', 'purpose', 'state', 'monthly_payment_to_totaldebt',\n",
      "       'past_due_2years', 'inquery_6month', 'open_acc', 'revol_bal',\n",
      "       'revol_utilization', 'total_acc', 'out_prncp', 'total_pymnt',\n",
      "       'total_rec_prncp', 'total_rec_int', 'total_rec_late_fee', 'recoveries',\n",
      "       'collection_recovery_fee', 'last_pymnt_d', 'last_pymnt_amnt',\n",
      "       'last_credit_pull_d', 'tot_cur_bal', 'total_credit_to_lim', 'target'],\n",
      "      dtype='object')\n"
     ]
    }
   ],
   "source": [
    "print(df.columns)"
   ]
  },
  {
   "cell_type": "markdown",
   "metadata": {},
   "source": [
    "### Preprocessing the data"
   ]
  },
  {
   "cell_type": "code",
   "execution_count": 12,
   "metadata": {
    "collapsed": true
   },
   "outputs": [],
   "source": [
    "feature_name = df.drop('target', axis = 1).columns\n",
    "x = df.drop('target', axis = 1)\n",
    "y = df.target"
   ]
  },
  {
   "cell_type": "code",
   "execution_count": 13,
   "metadata": {},
   "outputs": [
    {
     "name": "stdout",
     "output_type": "stream",
     "text": [
      "Label Encoded: term\n",
      "Label Encoded: grade\n",
      "Label Encoded: sub_grade\n",
      "Label Encoded: emp_length\n",
      "Label Encoded: home_ownership\n",
      "Label Encoded: verification_status\n",
      "Label Encoded: issue_date\n",
      "Label Encoded: purpose\n",
      "Label Encoded: state\n",
      "Label Encoded: last_pymnt_d\n",
      "Label Encoded: last_credit_pull_d\n"
     ]
    }
   ],
   "source": [
    "# Encoding the fields\n",
    "from sklearn.preprocessing import LabelEncoder\n",
    "# Encoding the categorical attributes\n",
    "for i in x:\n",
    "    if x[i].dtype == 'object':\n",
    "        labelencoder_x = LabelEncoder()\n",
    "        x[i] = labelencoder_x.fit_transform(x[i].astype(str))\n",
    "        print('Label Encoded: ' + i)"
   ]
  },
  {
   "cell_type": "markdown",
   "metadata": {},
   "source": [
    "### Feature Scaling"
   ]
  },
  {
   "cell_type": "code",
   "execution_count": 14,
   "metadata": {
    "collapsed": true
   },
   "outputs": [],
   "source": [
    "from sklearn.preprocessing import StandardScaler\n",
    "sc_x = StandardScaler()\n",
    "x = sc_x.fit_transform(x)\n"
   ]
  },
  {
   "cell_type": "code",
   "execution_count": 15,
   "metadata": {},
   "outputs": [
    {
     "data": {
      "text/plain": [
       "array([[-1.37134093,  1.80329344,  0.30395848, ..., -1.61822316,\n",
       "        -0.33093969, -0.21912671],\n",
       "       [-1.02021825,  1.80329344, -0.27807096, ..., -1.98124841,\n",
       "        -0.33093969, -0.21912671],\n",
       "       [-0.57749835, -0.55454092, -0.09759672, ..., -2.88881152,\n",
       "        -0.33093969, -0.21912671],\n",
       "       ..., \n",
       "       [-1.34386176, -0.55454092,  0.88824386, ...,  0.65068461,\n",
       "         0.29296402, -0.84282033],\n",
       "       [ 0.7170757 ,  1.80329344,  0.08738939, ...,  0.65068461,\n",
       "         0.13197502,  7.89889409],\n",
       "       [-0.35155854, -0.55454092,  1.19956194, ...,  0.65068461,\n",
       "        -0.51550215, -0.41958591]])"
      ]
     },
     "execution_count": 15,
     "metadata": {},
     "output_type": "execute_result"
    }
   ],
   "source": [
    "x"
   ]
  },
  {
   "cell_type": "markdown",
   "metadata": {},
   "source": [
    "# STEP 8 DATA MINING"
   ]
  },
  {
   "cell_type": "markdown",
   "metadata": {},
   "source": [
    "## 7.1 Test Design"
   ]
  },
  {
   "cell_type": "code",
   "execution_count": 16,
   "metadata": {
    "collapsed": true
   },
   "outputs": [],
   "source": [
    "# Split training set & test set: 70/30\n",
    "from sklearn.model_selection import train_test_split\n",
    "xtrain, xtest, ytrain, ytest = train_test_split(x, y, test_size = 0.3, random_state = 0)\n",
    "from sklearn.metrics import accuracy_score\n",
    "from sklearn.metrics import classification_report\n",
    "\n"
   ]
  },
  {
   "cell_type": "code",
   "execution_count": 17,
   "metadata": {},
   "outputs": [
    {
     "name": "stdout",
     "output_type": "stream",
     "text": [
      "Size of trainings set: 192073\n",
      "Size of test set: 82317\n"
     ]
    }
   ],
   "source": [
    "print('Size of trainings set:', str(len(ytrain)))\n",
    "print('Size of test set:', str(len(ytest)))"
   ]
  },
  {
   "cell_type": "markdown",
   "metadata": {},
   "source": [
    "## 7.2 Conduct Data Mining"
   ]
  },
  {
   "cell_type": "markdown",
   "metadata": {},
   "source": [
    "### Logistic Regression"
   ]
  },
  {
   "cell_type": "code",
   "execution_count": 18,
   "metadata": {
    "collapsed": true
   },
   "outputs": [],
   "source": [
    "from sklearn.linear_model import LogisticRegression\n",
    "classifier_lr = LogisticRegression(random_state = 0)\n",
    "classifier_lr.fit(xtrain, ytrain)\n",
    "lr_pred = classifier_lr.predict(xtest)\n"
   ]
  },
  {
   "cell_type": "code",
   "execution_count": 19,
   "metadata": {},
   "outputs": [
    {
     "name": "stdout",
     "output_type": "stream",
     "text": [
      "{'C': 1.0, 'class_weight': None, 'dual': False, 'fit_intercept': True, 'intercept_scaling': 1, 'max_iter': 100, 'multi_class': 'ovr', 'n_jobs': 1, 'penalty': 'l2', 'random_state': 0, 'solver': 'liblinear', 'tol': 0.0001, 'verbose': 0, 'warm_start': False}\n"
     ]
    }
   ],
   "source": [
    "print(classifier_lr.get_params())"
   ]
  },
  {
   "cell_type": "code",
   "execution_count": 20,
   "metadata": {},
   "outputs": [
    {
     "data": {
      "text/html": [
       "<div>\n",
       "<style>\n",
       "    .dataframe thead tr:only-child th {\n",
       "        text-align: right;\n",
       "    }\n",
       "\n",
       "    .dataframe thead th {\n",
       "        text-align: left;\n",
       "    }\n",
       "\n",
       "    .dataframe tbody tr th {\n",
       "        vertical-align: top;\n",
       "    }\n",
       "</style>\n",
       "<table border=\"1\" class=\"dataframe\">\n",
       "  <thead>\n",
       "    <tr style=\"text-align: right;\">\n",
       "      <th></th>\n",
       "      <th>0</th>\n",
       "      <th>1</th>\n",
       "      <th>2</th>\n",
       "      <th>3</th>\n",
       "      <th>4</th>\n",
       "      <th>5</th>\n",
       "      <th>6</th>\n",
       "      <th>7</th>\n",
       "      <th>8</th>\n",
       "      <th>9</th>\n",
       "      <th>...</th>\n",
       "      <th>82307</th>\n",
       "      <th>82308</th>\n",
       "      <th>82309</th>\n",
       "      <th>82310</th>\n",
       "      <th>82311</th>\n",
       "      <th>82312</th>\n",
       "      <th>82313</th>\n",
       "      <th>82314</th>\n",
       "      <th>82315</th>\n",
       "      <th>82316</th>\n",
       "    </tr>\n",
       "  </thead>\n",
       "  <tbody>\n",
       "    <tr>\n",
       "      <th>LR_prediction</th>\n",
       "      <td>1</td>\n",
       "      <td>1</td>\n",
       "      <td>1</td>\n",
       "      <td>1</td>\n",
       "      <td>0</td>\n",
       "      <td>1</td>\n",
       "      <td>1</td>\n",
       "      <td>1</td>\n",
       "      <td>1</td>\n",
       "      <td>1</td>\n",
       "      <td>...</td>\n",
       "      <td>1</td>\n",
       "      <td>1</td>\n",
       "      <td>1</td>\n",
       "      <td>1</td>\n",
       "      <td>1</td>\n",
       "      <td>1</td>\n",
       "      <td>1</td>\n",
       "      <td>1</td>\n",
       "      <td>1</td>\n",
       "      <td>1</td>\n",
       "    </tr>\n",
       "    <tr>\n",
       "      <th>Test_target</th>\n",
       "      <td>1</td>\n",
       "      <td>1</td>\n",
       "      <td>1</td>\n",
       "      <td>1</td>\n",
       "      <td>0</td>\n",
       "      <td>1</td>\n",
       "      <td>1</td>\n",
       "      <td>1</td>\n",
       "      <td>1</td>\n",
       "      <td>1</td>\n",
       "      <td>...</td>\n",
       "      <td>1</td>\n",
       "      <td>1</td>\n",
       "      <td>1</td>\n",
       "      <td>1</td>\n",
       "      <td>1</td>\n",
       "      <td>1</td>\n",
       "      <td>1</td>\n",
       "      <td>1</td>\n",
       "      <td>1</td>\n",
       "      <td>1</td>\n",
       "    </tr>\n",
       "  </tbody>\n",
       "</table>\n",
       "<p>2 rows × 82317 columns</p>\n",
       "</div>"
      ],
      "text/plain": [
       "               0      1      2      3      4      5      6      7      8      \\\n",
       "LR_prediction      1      1      1      1      0      1      1      1      1   \n",
       "Test_target        1      1      1      1      0      1      1      1      1   \n",
       "\n",
       "               9      ...    82307  82308  82309  82310  82311  82312  82313  \\\n",
       "LR_prediction      1  ...        1      1      1      1      1      1      1   \n",
       "Test_target        1  ...        1      1      1      1      1      1      1   \n",
       "\n",
       "               82314  82315  82316  \n",
       "LR_prediction      1      1      1  \n",
       "Test_target        1      1      1  \n",
       "\n",
       "[2 rows x 82317 columns]"
      ]
     },
     "execution_count": 20,
     "metadata": {},
     "output_type": "execute_result"
    }
   ],
   "source": [
    "pd.DataFrame([lr_pred, ytest], index=['LR_prediction','Test_target'])"
   ]
  },
  {
   "cell_type": "markdown",
   "metadata": {},
   "source": [
    "### Decision Tree Classification"
   ]
  },
  {
   "cell_type": "code",
   "execution_count": 21,
   "metadata": {
    "collapsed": true
   },
   "outputs": [],
   "source": [
    "from sklearn.tree import DecisionTreeClassifier\n",
    "classifier_dt = DecisionTreeClassifier(criterion = 'entropy', random_state = 0)\n",
    "classifier_dt.fit(xtrain, ytrain)\n",
    "dt_pred = classifier_dt.predict(xtest)\n"
   ]
  },
  {
   "cell_type": "code",
   "execution_count": 22,
   "metadata": {},
   "outputs": [
    {
     "name": "stdout",
     "output_type": "stream",
     "text": [
      "{'class_weight': None, 'criterion': 'entropy', 'max_depth': None, 'max_features': None, 'max_leaf_nodes': None, 'min_impurity_decrease': 0.0, 'min_impurity_split': None, 'min_samples_leaf': 1, 'min_samples_split': 2, 'min_weight_fraction_leaf': 0.0, 'presort': False, 'random_state': 0, 'splitter': 'best'}\n"
     ]
    }
   ],
   "source": [
    "print(classifier_dt.get_params())"
   ]
  },
  {
   "cell_type": "code",
   "execution_count": 24,
   "metadata": {},
   "outputs": [
    {
     "data": {
      "text/html": [
       "<div>\n",
       "<style>\n",
       "    .dataframe thead tr:only-child th {\n",
       "        text-align: right;\n",
       "    }\n",
       "\n",
       "    .dataframe thead th {\n",
       "        text-align: left;\n",
       "    }\n",
       "\n",
       "    .dataframe tbody tr th {\n",
       "        vertical-align: top;\n",
       "    }\n",
       "</style>\n",
       "<table border=\"1\" class=\"dataframe\">\n",
       "  <thead>\n",
       "    <tr style=\"text-align: right;\">\n",
       "      <th></th>\n",
       "      <th>0</th>\n",
       "      <th>1</th>\n",
       "      <th>2</th>\n",
       "      <th>3</th>\n",
       "      <th>4</th>\n",
       "      <th>5</th>\n",
       "      <th>6</th>\n",
       "      <th>7</th>\n",
       "      <th>8</th>\n",
       "      <th>9</th>\n",
       "      <th>...</th>\n",
       "      <th>82307</th>\n",
       "      <th>82308</th>\n",
       "      <th>82309</th>\n",
       "      <th>82310</th>\n",
       "      <th>82311</th>\n",
       "      <th>82312</th>\n",
       "      <th>82313</th>\n",
       "      <th>82314</th>\n",
       "      <th>82315</th>\n",
       "      <th>82316</th>\n",
       "    </tr>\n",
       "  </thead>\n",
       "  <tbody>\n",
       "    <tr>\n",
       "      <th>DT_prediction</th>\n",
       "      <td>1</td>\n",
       "      <td>1</td>\n",
       "      <td>1</td>\n",
       "      <td>1</td>\n",
       "      <td>0</td>\n",
       "      <td>1</td>\n",
       "      <td>1</td>\n",
       "      <td>1</td>\n",
       "      <td>1</td>\n",
       "      <td>1</td>\n",
       "      <td>...</td>\n",
       "      <td>1</td>\n",
       "      <td>1</td>\n",
       "      <td>1</td>\n",
       "      <td>1</td>\n",
       "      <td>1</td>\n",
       "      <td>1</td>\n",
       "      <td>1</td>\n",
       "      <td>1</td>\n",
       "      <td>1</td>\n",
       "      <td>1</td>\n",
       "    </tr>\n",
       "    <tr>\n",
       "      <th>Test_target</th>\n",
       "      <td>1</td>\n",
       "      <td>1</td>\n",
       "      <td>1</td>\n",
       "      <td>1</td>\n",
       "      <td>0</td>\n",
       "      <td>1</td>\n",
       "      <td>1</td>\n",
       "      <td>1</td>\n",
       "      <td>1</td>\n",
       "      <td>1</td>\n",
       "      <td>...</td>\n",
       "      <td>1</td>\n",
       "      <td>1</td>\n",
       "      <td>1</td>\n",
       "      <td>1</td>\n",
       "      <td>1</td>\n",
       "      <td>1</td>\n",
       "      <td>1</td>\n",
       "      <td>1</td>\n",
       "      <td>1</td>\n",
       "      <td>1</td>\n",
       "    </tr>\n",
       "  </tbody>\n",
       "</table>\n",
       "<p>2 rows × 82317 columns</p>\n",
       "</div>"
      ],
      "text/plain": [
       "               0      1      2      3      4      5      6      7      8      \\\n",
       "DT_prediction      1      1      1      1      0      1      1      1      1   \n",
       "Test_target        1      1      1      1      0      1      1      1      1   \n",
       "\n",
       "               9      ...    82307  82308  82309  82310  82311  82312  82313  \\\n",
       "DT_prediction      1  ...        1      1      1      1      1      1      1   \n",
       "Test_target        1  ...        1      1      1      1      1      1      1   \n",
       "\n",
       "               82314  82315  82316  \n",
       "DT_prediction      1      1      1  \n",
       "Test_target        1      1      1  \n",
       "\n",
       "[2 rows x 82317 columns]"
      ]
     },
     "execution_count": 24,
     "metadata": {},
     "output_type": "execute_result"
    }
   ],
   "source": [
    "pd.DataFrame([dt_pred, ytest], index=['DT_prediction','Test_target'])"
   ]
  },
  {
   "cell_type": "markdown",
   "metadata": {},
   "source": [
    "## 7.3 Search for Patterns"
   ]
  },
  {
   "cell_type": "code",
   "execution_count": 25,
   "metadata": {},
   "outputs": [
    {
     "data": {
      "text/html": [
       "<div>\n",
       "<style>\n",
       "    .dataframe thead tr:only-child th {\n",
       "        text-align: right;\n",
       "    }\n",
       "\n",
       "    .dataframe thead th {\n",
       "        text-align: left;\n",
       "    }\n",
       "\n",
       "    .dataframe tbody tr th {\n",
       "        vertical-align: top;\n",
       "    }\n",
       "</style>\n",
       "<table border=\"1\" class=\"dataframe\">\n",
       "  <thead>\n",
       "    <tr style=\"text-align: right;\">\n",
       "      <th></th>\n",
       "      <th>target</th>\n",
       "      <th>loan_amnt</th>\n",
       "      <th>annual_inc</th>\n",
       "      <th>int_rate</th>\n",
       "      <th>last_pymnt_amnt</th>\n",
       "      <th>installment</th>\n",
       "      <th>out_prncp</th>\n",
       "      <th>recoveries</th>\n",
       "      <th>monthly_payment_to_totaldebt</th>\n",
       "    </tr>\n",
       "  </thead>\n",
       "  <tbody>\n",
       "    <tr>\n",
       "      <th>target</th>\n",
       "      <td>1.000000</td>\n",
       "      <td>-0.082394</td>\n",
       "      <td>0.048564</td>\n",
       "      <td>-0.258191</td>\n",
       "      <td>0.431567</td>\n",
       "      <td>-0.064870</td>\n",
       "      <td>-0.421711</td>\n",
       "      <td>-0.360348</td>\n",
       "      <td>-0.144941</td>\n",
       "    </tr>\n",
       "    <tr>\n",
       "      <th>loan_amnt</th>\n",
       "      <td>-0.082394</td>\n",
       "      <td>1.000000</td>\n",
       "      <td>0.325882</td>\n",
       "      <td>0.217270</td>\n",
       "      <td>0.528115</td>\n",
       "      <td>0.954413</td>\n",
       "      <td>0.203843</td>\n",
       "      <td>0.164524</td>\n",
       "      <td>0.053658</td>\n",
       "    </tr>\n",
       "    <tr>\n",
       "      <th>annual_inc</th>\n",
       "      <td>0.048564</td>\n",
       "      <td>0.325882</td>\n",
       "      <td>1.000000</td>\n",
       "      <td>-0.026444</td>\n",
       "      <td>0.211735</td>\n",
       "      <td>0.321491</td>\n",
       "      <td>0.045819</td>\n",
       "      <td>0.023140</td>\n",
       "      <td>-0.168640</td>\n",
       "    </tr>\n",
       "    <tr>\n",
       "      <th>int_rate</th>\n",
       "      <td>-0.258191</td>\n",
       "      <td>0.217270</td>\n",
       "      <td>-0.026444</td>\n",
       "      <td>1.000000</td>\n",
       "      <td>0.087908</td>\n",
       "      <td>0.207073</td>\n",
       "      <td>0.141159</td>\n",
       "      <td>0.162017</td>\n",
       "      <td>0.178111</td>\n",
       "    </tr>\n",
       "    <tr>\n",
       "      <th>last_pymnt_amnt</th>\n",
       "      <td>0.431567</td>\n",
       "      <td>0.528115</td>\n",
       "      <td>0.211735</td>\n",
       "      <td>0.087908</td>\n",
       "      <td>1.000000</td>\n",
       "      <td>0.477378</td>\n",
       "      <td>-0.177537</td>\n",
       "      <td>-0.152475</td>\n",
       "      <td>-0.002580</td>\n",
       "    </tr>\n",
       "    <tr>\n",
       "      <th>installment</th>\n",
       "      <td>-0.064870</td>\n",
       "      <td>0.954413</td>\n",
       "      <td>0.321491</td>\n",
       "      <td>0.207073</td>\n",
       "      <td>0.477378</td>\n",
       "      <td>1.000000</td>\n",
       "      <td>0.174811</td>\n",
       "      <td>0.148149</td>\n",
       "      <td>0.052682</td>\n",
       "    </tr>\n",
       "    <tr>\n",
       "      <th>out_prncp</th>\n",
       "      <td>-0.421711</td>\n",
       "      <td>0.203843</td>\n",
       "      <td>0.045819</td>\n",
       "      <td>0.141159</td>\n",
       "      <td>-0.177537</td>\n",
       "      <td>0.174811</td>\n",
       "      <td>1.000000</td>\n",
       "      <td>-0.048772</td>\n",
       "      <td>0.093873</td>\n",
       "    </tr>\n",
       "    <tr>\n",
       "      <th>recoveries</th>\n",
       "      <td>-0.360348</td>\n",
       "      <td>0.164524</td>\n",
       "      <td>0.023140</td>\n",
       "      <td>0.162017</td>\n",
       "      <td>-0.152475</td>\n",
       "      <td>0.148149</td>\n",
       "      <td>-0.048772</td>\n",
       "      <td>1.000000</td>\n",
       "      <td>0.041370</td>\n",
       "    </tr>\n",
       "    <tr>\n",
       "      <th>monthly_payment_to_totaldebt</th>\n",
       "      <td>-0.144941</td>\n",
       "      <td>0.053658</td>\n",
       "      <td>-0.168640</td>\n",
       "      <td>0.178111</td>\n",
       "      <td>-0.002580</td>\n",
       "      <td>0.052682</td>\n",
       "      <td>0.093873</td>\n",
       "      <td>0.041370</td>\n",
       "      <td>1.000000</td>\n",
       "    </tr>\n",
       "  </tbody>\n",
       "</table>\n",
       "</div>"
      ],
      "text/plain": [
       "                                target  loan_amnt  annual_inc  int_rate  \\\n",
       "target                        1.000000  -0.082394    0.048564 -0.258191   \n",
       "loan_amnt                    -0.082394   1.000000    0.325882  0.217270   \n",
       "annual_inc                    0.048564   0.325882    1.000000 -0.026444   \n",
       "int_rate                     -0.258191   0.217270   -0.026444  1.000000   \n",
       "last_pymnt_amnt               0.431567   0.528115    0.211735  0.087908   \n",
       "installment                  -0.064870   0.954413    0.321491  0.207073   \n",
       "out_prncp                    -0.421711   0.203843    0.045819  0.141159   \n",
       "recoveries                   -0.360348   0.164524    0.023140  0.162017   \n",
       "monthly_payment_to_totaldebt -0.144941   0.053658   -0.168640  0.178111   \n",
       "\n",
       "                              last_pymnt_amnt  installment  out_prncp  \\\n",
       "target                               0.431567    -0.064870  -0.421711   \n",
       "loan_amnt                            0.528115     0.954413   0.203843   \n",
       "annual_inc                           0.211735     0.321491   0.045819   \n",
       "int_rate                             0.087908     0.207073   0.141159   \n",
       "last_pymnt_amnt                      1.000000     0.477378  -0.177537   \n",
       "installment                          0.477378     1.000000   0.174811   \n",
       "out_prncp                           -0.177537     0.174811   1.000000   \n",
       "recoveries                          -0.152475     0.148149  -0.048772   \n",
       "monthly_payment_to_totaldebt        -0.002580     0.052682   0.093873   \n",
       "\n",
       "                              recoveries  monthly_payment_to_totaldebt  \n",
       "target                         -0.360348                     -0.144941  \n",
       "loan_amnt                       0.164524                      0.053658  \n",
       "annual_inc                      0.023140                     -0.168640  \n",
       "int_rate                        0.162017                      0.178111  \n",
       "last_pymnt_amnt                -0.152475                     -0.002580  \n",
       "installment                     0.148149                      0.052682  \n",
       "out_prncp                      -0.048772                      0.093873  \n",
       "recoveries                      1.000000                      0.041370  \n",
       "monthly_payment_to_totaldebt    0.041370                      1.000000  "
      ]
     },
     "execution_count": 25,
     "metadata": {},
     "output_type": "execute_result"
    }
   ],
   "source": [
    "df2 = df[['target','loan_amnt','annual_inc','int_rate','last_pymnt_amnt','installment','out_prncp','recoveries','monthly_payment_to_totaldebt']]\n",
    "df2.corr()\n"
   ]
  },
  {
   "cell_type": "code",
   "execution_count": 26,
   "metadata": {
    "collapsed": true
   },
   "outputs": [],
   "source": [
    "correlation = df.apply(lambda x : pd.factorize(x)[0]).corr(method='pearson', min_periods=1)"
   ]
  },
  {
   "cell_type": "code",
   "execution_count": 27,
   "metadata": {},
   "outputs": [
    {
     "data": {
      "image/png": "[encoded data removed]",
      "text/plain": [
       "<matplotlib.figure.Figure at 0x2092c7bb898>"
      ]
     },
     "metadata": {},
     "output_type": "display_data"
    }
   ],
   "source": [
    "vdf = df.groupby('target')['last_pymnt_amnt'].mean()\n",
    "vdf = vdf.reset_index()\n",
    "plt.bar(vdf.target.values, vdf.last_pymnt_amnt.values)\n",
    "plt.title('Relation between Target and Amount of Last Payment', size = 13)\n",
    "plt.xlabel('Target', fontsize = 13)\n",
    "plt.ylabel('Average Amount of Last Payment', fontsize = 12)\n",
    "plt.show()"
   ]
  },
  {
   "cell_type": "code",
   "execution_count": 28,
   "metadata": {},
   "outputs": [
    {
     "data": {
      "image/png": "[encoded data removed]",
      "text/plain": [
       "<matplotlib.figure.Figure at 0x2092c7bba90>"
      ]
     },
     "metadata": {},
     "output_type": "display_data"
    }
   ],
   "source": [
    "vdf = df.groupby('target')['out_prncp'].mean()\n",
    "vdf = vdf.reset_index()\n",
    "plt.bar(vdf.target.values, vdf.out_prncp.values)\n",
    "plt.title('Relation between Target and Outstanding Principal', size = 13)\n",
    "plt.xlabel('Target', fontsize = 13)\n",
    "plt.ylabel('Average Amount of Outstanding Principal', fontsize = 11)\n",
    "plt.show()"
   ]
  },
  {
   "cell_type": "code",
   "execution_count": 29,
   "metadata": {},
   "outputs": [
    {
     "data": {
      "image/png": "[encoded data removed]",
      "text/plain": [
       "<matplotlib.figure.Figure at 0x2092c7bb828>"
      ]
     },
     "metadata": {},
     "output_type": "display_data"
    }
   ],
   "source": [
    "vdf = df.groupby('target')['int_rate'].mean()\n",
    "vdf = vdf.reset_index()\n",
    "plt.bar(vdf.target.values, vdf.int_rate.values)\n",
    "plt.title('Relation between Target and Interest Rate', size = 15)\n",
    "plt.xlabel('Target', fontsize = 13)\n",
    "plt.ylabel('Average Interest Rate', fontsize = 13)\n",
    "plt.show()"
   ]
  },
  {
   "cell_type": "markdown",
   "metadata": {},
   "source": [
    "# STEP 8 INTERPRETATION"
   ]
  },
  {
   "cell_type": "markdown",
   "metadata": {},
   "source": [
    "## 8.1 Mined Patterns"
   ]
  },
  {
   "cell_type": "markdown",
   "metadata": {},
   "source": [
    "### Coefficients: Logistic Model"
   ]
  },
  {
   "cell_type": "code",
   "execution_count": 30,
   "metadata": {
    "collapsed": true
   },
   "outputs": [],
   "source": [
    "feature_coef = {}\n",
    "coef = classifier_lr.coef_[0]\n",
    "for i in range(len(feature_name)):\n",
    "    feature_coef[feature_name[i]] = coef[i] "
   ]
  },
  {
   "cell_type": "code",
   "execution_count": 31,
   "metadata": {},
   "outputs": [
    {
     "name": "stdout",
     "output_type": "stream",
     "text": [
      "last_pymnt_amnt                10.087322696696942\n",
      "total_rec_prncp                9.555436875414129\n",
      "total_pymnt                    6.638858359583439\n",
      "sub_grade                      0.7853796803291628\n",
      "last_pymnt_d                   0.24913090856528686\n",
      "revol_bal                      0.09701799365037946\n",
      "home_ownership                 0.07243749274623101\n",
      "annual_inc                     0.06049576794007248\n",
      "open_acc                       0.03373170778161632\n",
      "emp_length                     0.012540554035632178\n",
      "revol_utilization              0.011455156528215169\n",
      "state                          0.009668069492006921\n",
      "purpose                        0.007293647148381956\n",
      "verification_status            0.0013648884601497888\n",
      "past_due_2years                -0.006784064414839832\n",
      "tot_cur_bal                    -0.00771517974778184\n",
      "total_acc                      -0.011485407838324344\n",
      "issue_date                     -0.015175003528884397\n",
      "inquery_6month                 -0.02879807693847769\n",
      "total_credit_to_lim            -0.08727901655504638\n",
      "grade                          -0.10631654334462935\n",
      "monthly_payment_to_totaldebt   -0.14638144168885261\n",
      "total_rec_late_fee             -0.2570696672689425\n",
      "last_credit_pull_d             -0.3147451458233033\n",
      "int_rate                       -0.6417625443422499\n",
      "term                           -1.2675062841558091\n",
      "total_rec_int                  -1.632534329864507\n",
      "loan_amnt                      -4.073770205174541\n",
      "collection_recovery_fee        -5.553299621407746\n",
      "installment                    -8.754490163621295\n",
      "out_prncp                      -18.201670727085983\n",
      "recoveries                     -18.59290747604454\n"
     ]
    }
   ],
   "source": [
    "for k, v in sorted(feature_coef.items(),key=lambda a: a[1], reverse=True):\n",
    "    print('{:<30} {:^6}'.format(k,v))"
   ]
  },
  {
   "cell_type": "markdown",
   "metadata": {},
   "source": [
    "### Importance: Decision tress classification"
   ]
  },
  {
   "cell_type": "code",
   "execution_count": 32,
   "metadata": {
    "collapsed": true
   },
   "outputs": [],
   "source": [
    "importance = classifier_dt.feature_importances_\n",
    "dt_importance = {}\n",
    "for i in range(len(importance)):\n",
    "    dt_importance[feature_name[i]] = importance[i]"
   ]
  },
  {
   "cell_type": "code",
   "execution_count": 33,
   "metadata": {},
   "outputs": [
    {
     "name": "stdout",
     "output_type": "stream",
     "text": [
      "last_pymnt_amnt                0.46250356153192723\n",
      "total_rec_prncp                0.17588404127450294\n",
      "loan_amnt                      0.15202508477874058\n",
      "recoveries                     0.09049987876300988\n",
      "out_prncp                      0.07338784699374998\n",
      "issue_date                     0.01399026731807303\n",
      "installment                    0.010385970965735795\n",
      "last_credit_pull_d             0.0045431518551443595\n",
      "total_rec_late_fee             0.0034384305830441196\n",
      "term                           0.0024644435115765543\n",
      "total_rec_int                  0.0023225994461808295\n",
      "last_pymnt_d                   0.0021188408109506\n",
      "total_credit_to_lim            0.0007072297369385881\n",
      "sub_grade                      0.0006707019187099145\n",
      "monthly_payment_to_totaldebt   0.0006629496312446696\n",
      "annual_inc                     0.0005955213682694921\n",
      "state                          0.000562465307729135\n",
      "revol_bal                      0.0005276895674586223\n",
      "revol_utilization              0.0005179043784457927\n",
      "tot_cur_bal                    0.00040202209510677167\n",
      "open_acc                       0.00037571142804001606\n",
      "int_rate                       0.00028566715299792214\n",
      "total_pymnt                    0.00022894519185251758\n",
      "purpose                        0.0002100157949002714\n",
      "verification_status            0.0001338348679289495\n",
      "inquery_6month                 0.00012060983654658581\n",
      "grade                          0.00011830981432014789\n",
      "total_acc                      0.0001173690483541466\n",
      "home_ownership                 7.610626564283159e-05\n",
      "past_due_2years                6.670504335063004e-05\n",
      "collection_recovery_fee        2.949405483787182e-05\n",
      "emp_length                     2.662966468907236e-05\n"
     ]
    }
   ],
   "source": [
    "for k, v in sorted(dt_importance.items(),key=lambda a: a[1], reverse=True):\n",
    "    print('{:<30} {:^6}'.format(k,v))"
   ]
  },
  {
   "cell_type": "code",
   "execution_count": 34,
   "metadata": {},
   "outputs": [
    {
     "data": {
      "image/png": "[encoded data removed]",
      "text/plain": [
       "<matplotlib.figure.Figure at 0x2093e0e2a20>"
      ]
     },
     "metadata": {},
     "output_type": "display_data"
    }
   ],
   "source": [
    "# coefficients plot\n",
    "beta = list(np.sort(classifier_lr.coef_[0]))\n",
    "plt.plot(beta)\n",
    "plt.ylabel('Beta Coefficients', fontsize = 12)\n",
    "plt.show()"
   ]
  },
  {
   "cell_type": "code",
   "execution_count": 35,
   "metadata": {
    "scrolled": true
   },
   "outputs": [
    {
     "data": {
      "image/png": "[encoded data removed]",
      "text/plain": [
       "<matplotlib.figure.Figure at 0x2093cc2fef0>"
      ]
     },
     "metadata": {},
     "output_type": "display_data"
    }
   ],
   "source": [
    "# Principal received to date\n",
    "vdf = df.groupby('target')['total_rec_prncp'].mean()\n",
    "vdf = vdf.reset_index()\n",
    "plt.bar(vdf.target.values, vdf.total_rec_prncp.values)\n",
    "plt.title('Relation between Target and Principal Received', size = 13)\n",
    "plt.xlabel('Target', fontsize = 11)\n",
    "plt.ylabel('Average Principal Received Amount', fontsize = 11)\n",
    "plt.show()"
   ]
  },
  {
   "cell_type": "code",
   "execution_count": 36,
   "metadata": {},
   "outputs": [
    {
     "data": {
      "image/png": "[encoded data removed]",
      "text/plain": [
       "<matplotlib.figure.Figure at 0x2093cc14ba8>"
      ]
     },
     "metadata": {},
     "output_type": "display_data"
    }
   ],
   "source": [
    "vdf = df.groupby('target')['last_pymnt_amnt'].mean()\n",
    "vdf = vdf.reset_index()\n",
    "plt.bar(vdf.target.values, vdf.last_pymnt_amnt.values)\n",
    "plt.title('Relation between Target and Amount of Last Payment', size = 13)\n",
    "plt.xlabel('Target', fontsize = 13)\n",
    "plt.ylabel('Average Amount of Last Payment', fontsize = 12)\n",
    "plt.show()"
   ]
  },
  {
   "cell_type": "code",
   "execution_count": 37,
   "metadata": {},
   "outputs": [
    {
     "data": {
      "image/png": "[encoded data removed]",
      "text/plain": [
       "<matplotlib.figure.Figure at 0x209518c9be0>"
      ]
     },
     "metadata": {},
     "output_type": "display_data"
    }
   ],
   "source": [
    "vdf = df.groupby('target')['installment'].mean()\n",
    "vdf = vdf.reset_index()\n",
    "plt.bar(vdf.target.values, vdf.installment.values)\n",
    "plt.title('Relation between Target and Installment', size = 15)\n",
    "plt.xlabel('Target', fontsize = 13)\n",
    "plt.ylabel('Average Installment', fontsize = 13)\n",
    "plt.show()"
   ]
  },
  {
   "cell_type": "code",
   "execution_count": 38,
   "metadata": {},
   "outputs": [
    {
     "data": {
      "image/png": "[encoded data removed]",
      "text/plain": [
       "<matplotlib.figure.Figure at 0x2093cfaa2e8>"
      ]
     },
     "metadata": {},
     "output_type": "display_data"
    }
   ],
   "source": [
    "vdf = df.groupby('target')['loan_amnt'].mean()\n",
    "vdf = vdf.reset_index()\n",
    "plt.bar(vdf.target.values, vdf.loan_amnt.values)\n",
    "plt.title('Relation between Target and Loan Amount', size = 15)\n",
    "plt.xlabel('Target', fontsize = 13)\n",
    "plt.ylabel('Average Loan Amount', fontsize = 13)\n",
    "plt.show()"
   ]
  },
  {
   "cell_type": "code",
   "execution_count": null,
   "metadata": {
    "collapsed": true
   },
   "outputs": [],
   "source": []
  },
  {
   "cell_type": "markdown",
   "metadata": {},
   "source": [
    "## Assessment, Evaluation and Visualization"
   ]
  },
  {
   "cell_type": "code",
   "execution_count": 39,
   "metadata": {
    "collapsed": true
   },
   "outputs": [],
   "source": [
    "from sklearn.metrics import accuracy_score\n",
    "accuracy_lr = accuracy_score(ytest, lr_pred)\n",
    "accuracy_dt = accuracy_score(ytest, dt_pred)\n",
    "\n",
    "from sklearn.metrics import confusion_matrix\n",
    "cm_lr = confusion_matrix(ytest,lr_pred)\n",
    "cm_dt = confusion_matrix(ytest,dt_pred)\n"
   ]
  },
  {
   "cell_type": "code",
   "execution_count": 40,
   "metadata": {},
   "outputs": [
    {
     "name": "stdout",
     "output_type": "stream",
     "text": [
      "Confusion Matrix of Logistic Regression\n"
     ]
    },
    {
     "data": {
      "text/html": [
       "<div>\n",
       "<style>\n",
       "    .dataframe thead tr:only-child th {\n",
       "        text-align: right;\n",
       "    }\n",
       "\n",
       "    .dataframe thead th {\n",
       "        text-align: left;\n",
       "    }\n",
       "\n",
       "    .dataframe tbody tr th {\n",
       "        vertical-align: top;\n",
       "    }\n",
       "</style>\n",
       "<table border=\"1\" class=\"dataframe\">\n",
       "  <thead>\n",
       "    <tr style=\"text-align: right;\">\n",
       "      <th></th>\n",
       "      <th>0</th>\n",
       "      <th>1</th>\n",
       "    </tr>\n",
       "  </thead>\n",
       "  <tbody>\n",
       "    <tr>\n",
       "      <th>0</th>\n",
       "      <td>19675</td>\n",
       "      <td>374</td>\n",
       "    </tr>\n",
       "    <tr>\n",
       "      <th>1</th>\n",
       "      <td>36</td>\n",
       "      <td>62232</td>\n",
       "    </tr>\n",
       "  </tbody>\n",
       "</table>\n",
       "</div>"
      ],
      "text/plain": [
       "       0      1\n",
       "0  19675    374\n",
       "1     36  62232"
      ]
     },
     "execution_count": 40,
     "metadata": {},
     "output_type": "execute_result"
    }
   ],
   "source": [
    "print('Confusion Matrix of Logistic Regression')\n",
    "pd.DataFrame(cm_lr)"
   ]
  },
  {
   "cell_type": "code",
   "execution_count": 41,
   "metadata": {},
   "outputs": [
    {
     "name": "stdout",
     "output_type": "stream",
     "text": [
      "Confusion Matrix of \n",
      "Decision Tree Classification\n"
     ]
    },
    {
     "data": {
      "text/html": [
       "<div>\n",
       "<style>\n",
       "    .dataframe thead tr:only-child th {\n",
       "        text-align: right;\n",
       "    }\n",
       "\n",
       "    .dataframe thead th {\n",
       "        text-align: left;\n",
       "    }\n",
       "\n",
       "    .dataframe tbody tr th {\n",
       "        vertical-align: top;\n",
       "    }\n",
       "</style>\n",
       "<table border=\"1\" class=\"dataframe\">\n",
       "  <thead>\n",
       "    <tr style=\"text-align: right;\">\n",
       "      <th></th>\n",
       "      <th>0</th>\n",
       "      <th>1</th>\n",
       "    </tr>\n",
       "  </thead>\n",
       "  <tbody>\n",
       "    <tr>\n",
       "      <th>0</th>\n",
       "      <td>19913</td>\n",
       "      <td>136</td>\n",
       "    </tr>\n",
       "    <tr>\n",
       "      <th>1</th>\n",
       "      <td>137</td>\n",
       "      <td>62131</td>\n",
       "    </tr>\n",
       "  </tbody>\n",
       "</table>\n",
       "</div>"
      ],
      "text/plain": [
       "       0      1\n",
       "0  19913    136\n",
       "1    137  62131"
      ]
     },
     "execution_count": 41,
     "metadata": {},
     "output_type": "execute_result"
    }
   ],
   "source": [
    "print('Confusion Matrix of \\nDecision Tree Classification')\n",
    "pd.DataFrame(cm_dt)"
   ]
  },
  {
   "cell_type": "code",
   "execution_count": 42,
   "metadata": {},
   "outputs": [
    {
     "name": "stdout",
     "output_type": "stream",
     "text": [
      "Accuracy of Logistic Regression: 0.995019254832\n",
      "Accuracy of Decision Tree Model: 0.996683552608\n"
     ]
    }
   ],
   "source": [
    "print('Accuracy of Logistic Regression: '+str(accuracy_lr))\n",
    "print('Accuracy of Decision Tree Model: '+str(accuracy_dt))"
   ]
  },
  {
   "cell_type": "code",
   "execution_count": 43,
   "metadata": {},
   "outputs": [
    {
     "data": {
      "text/plain": [
       "0.97296566080283875"
      ]
     },
     "execution_count": 43,
     "metadata": {},
     "output_type": "execute_result"
    }
   ],
   "source": [
    "from sklearn.metrics import r2_score\n",
    "r2_score(ytest, lr_pred) "
   ]
  },
  {
   "cell_type": "code",
   "execution_count": null,
   "metadata": {
    "collapsed": true
   },
   "outputs": [],
   "source": []
  },
  {
   "cell_type": "code",
   "execution_count": 44,
   "metadata": {},
   "outputs": [
    {
     "data": {
      "image/png": "[encoded data removed]",
      "text/plain": [
       "<matplotlib.figure.Figure at 0x209518c9f28>"
      ]
     },
     "metadata": {},
     "output_type": "display_data"
    }
   ],
   "source": [
    "from sklearn import metrics\n",
    "fpr, tpr, threshold = metrics.roc_curve(ytest, lr_pred)\n",
    "roc_auc = metrics.auc(fpr, tpr)\n",
    "plt.title('Receiver Operating Characteristic - Logistic Regression')\n",
    "plt.plot(fpr, tpr, 'b', label = 'AUC = %0.2f' % roc_auc)\n",
    "plt.legend(loc = 'lower right')\n",
    "plt.plot([0, 1], [0, 1],'r--')\n",
    "plt.xlim([0, 1])\n",
    "plt.ylim([0, 1])\n",
    "plt.ylabel('True Positive Rate')\n",
    "plt.xlabel('False Positive Rate')\n",
    "plt.show()"
   ]
  },
  {
   "cell_type": "code",
   "execution_count": 45,
   "metadata": {},
   "outputs": [
    {
     "data": {
      "image/png": "[encoded data removed]",
      "text/plain": [
       "<matplotlib.figure.Figure at 0x2092acebc18>"
      ]
     },
     "metadata": {},
     "output_type": "display_data"
    }
   ],
   "source": [
    "fpr, tpr, threshold = metrics.roc_curve(ytest, dt_pred)\n",
    "roc_auc = metrics.auc(fpr, tpr)\n",
    "plt.title('Receiver Operating Characteristic - Decision Tree Classification')\n",
    "plt.plot(fpr, tpr, 'b', label = 'AUC = %0.2f' % roc_auc)\n",
    "plt.legend(loc = 'lower right')\n",
    "plt.plot([0, 1], [0, 1],'r--')\n",
    "plt.xlim([0, 1])\n",
    "plt.ylim([0, 1])\n",
    "plt.ylabel('True Positive Rate')\n",
    "plt.xlabel('False Positive Rate')\n",
    "plt.show()"
   ]
  },
  {
   "cell_type": "code",
   "execution_count": 46,
   "metadata": {},
   "outputs": [
    {
     "name": "stdout",
     "output_type": "stream",
     "text": [
      "             precision    recall  f1-score   support\n",
      "\n",
      "          0       1.00      0.98      0.99     20049\n",
      "          1       0.99      1.00      1.00     62268\n",
      "\n",
      "avg / total       1.00      1.00      1.00     82317\n",
      "\n",
      "             precision    recall  f1-score   support\n",
      "\n",
      "          0       0.99      0.99      0.99     20049\n",
      "          1       1.00      1.00      1.00     62268\n",
      "\n",
      "avg / total       1.00      1.00      1.00     82317\n",
      "\n"
     ]
    }
   ],
   "source": [
    "from sklearn.metrics import classification_report\n",
    "print(classification_report(ytest, lr_pred))\n",
    "print(classification_report(ytest, dt_pred))"
   ]
  },
  {
   "cell_type": "markdown",
   "metadata": {
    "collapsed": true
   },
   "source": [
    "## 8.5 Iterations"
   ]
  },
  {
   "cell_type": "code",
   "execution_count": 47,
   "metadata": {
    "collapsed": true
   },
   "outputs": [],
   "source": [
    "# Split training set & test set: 80/20\n",
    "from sklearn.model_selection import train_test_split\n",
    "xtrain, xtest, ytrain, ytest = train_test_split(x, y, test_size = 0.2, random_state = 0)\n",
    "from sklearn.metrics import accuracy_score\n",
    "from sklearn.metrics import classification_report"
   ]
  },
  {
   "cell_type": "code",
   "execution_count": 48,
   "metadata": {
    "collapsed": true
   },
   "outputs": [],
   "source": [
    "# logistic regression\n",
    "from sklearn.linear_model import LogisticRegression\n",
    "classifier_lr = LogisticRegression(random_state = 0)\n",
    "classifier_lr.fit(xtrain, ytrain)\n",
    "lr_pred = classifier_lr.predict(xtest)"
   ]
  },
  {
   "cell_type": "code",
   "execution_count": 49,
   "metadata": {
    "collapsed": true
   },
   "outputs": [],
   "source": [
    "# decision tree classification\n",
    "from sklearn.tree import DecisionTreeClassifier\n",
    "classifier_dt = DecisionTreeClassifier(criterion = 'entropy', random_state = 0)\n",
    "classifier_dt.fit(xtrain, ytrain)\n",
    "dt_pred = classifier_dt.predict(xtest)"
   ]
  },
  {
   "cell_type": "code",
   "execution_count": 50,
   "metadata": {},
   "outputs": [
    {
     "name": "stdout",
     "output_type": "stream",
     "text": [
      "Accuracy of Logistic Regression: 0.995426218157\n",
      "Accuracy of Decision Tree Model: 0.996920441707\n"
     ]
    }
   ],
   "source": [
    "from sklearn.metrics import accuracy_score\n",
    "accuracy_lr = accuracy_score(ytest, lr_pred)\n",
    "accuracy_dt = accuracy_score(ytest, dt_pred)\n",
    "print('Accuracy of Logistic Regression: '+str(accuracy_lr))\n",
    "print('Accuracy of Decision Tree Model: '+str(accuracy_dt))"
   ]
  },
  {
   "cell_type": "code",
   "execution_count": null,
   "metadata": {
    "collapsed": true
   },
   "outputs": [],
   "source": []
  }
 ],
 "metadata": {
  "kernelspec": {
   "display_name": "Python 3",
   "language": "python",
   "name": "python3"
  },
  "language_info": {
   "codemirror_mode": {
    "name": "ipython",
    "version": 3
   },
   "file_extension": ".py",
   "mimetype": "text/x-python",
   "name": "python",
   "nbconvert_exporter": "python",
   "pygments_lexer": "ipython3",
   "version": "3.6.3"
  }
 },
 "nbformat": 4,
 "nbformat_minor": 2
}
